{
 "cells": [
  {
   "cell_type": "markdown",
   "id": "5023dbcf",
   "metadata": {},
   "source": [
    "# Bank Marketing Term Deposit Prediction\n",
    "Machine Learning project implemented in Python.\n"
   ]
  },
  {
   "cell_type": "code",
   "execution_count": null,
   "id": "8f8bcabe",
   "metadata": {},
   "outputs": [],
   "source": [
    "import pandas as pd\n",
    "import matplotlib.pyplot as plt\n",
    "import seaborn as sns\n",
    "from sklearn.model_selection import train_test_split\n",
    "from sklearn.preprocessing import LabelEncoder, StandardScaler\n",
    "from sklearn.linear_model import LogisticRegression\n",
    "from sklearn.tree import DecisionTreeClassifier\n",
    "from sklearn.naive_bayes import GaussianNB\n",
    "from sklearn.metrics import classification_report, confusion_matrix, roc_auc_score, accuracy_score\n"
   ]
  },
  {
   "cell_type": "code",
   "execution_count": null,
   "id": "5d850421",
   "metadata": {},
   "outputs": [],
   "source": [
    "# Load dataset\n",
    "df = pd.read_csv(\"bank 2.csv\")\n",
    "df.head()"
   ]
  },
  {
   "cell_type": "code",
   "execution_count": null,
   "id": "9628fbc4",
   "metadata": {},
   "outputs": [],
   "source": [
    "# Replace 'unknown' with NaN\n",
    "df.replace('unknown', pd.NA, inplace=True)\n",
    "\n",
    "# Fill missing categorical values with mode\n",
    "for col in df.select_dtypes(include='object').columns:\n",
    "    df[col] = df[col].fillna(df[col].mode()[0])\n",
    "\n",
    "# Encode categorical columns\n",
    "le = LabelEncoder()\n",
    "for col in df.select_dtypes(include='object').columns:\n",
    "    df[col] = le.fit_transform(df[col])"
   ]
  },
  {
   "cell_type": "code",
   "execution_count": null,
   "id": "1b850de1",
   "metadata": {},
   "outputs": [],
   "source": [
    "# Scale selected numerical features\n",
    "scaler = StandardScaler()\n",
    "scaled_cols = ['age', 'balance', 'duration', 'campaign', 'pdays', 'previous']\n",
    "df[scaled_cols] = scaler.fit_transform(df[scaled_cols])"
   ]
  },
  {
   "cell_type": "code",
   "execution_count": null,
   "id": "38f8b029",
   "metadata": {},
   "outputs": [],
   "source": [
    "# Train-test split\n",
    "X = df.drop('deposit', axis=1)\n",
    "y = df['deposit']\n",
    "X_train, X_test, y_train, y_test = train_test_split(X, y, test_size=0.3, random_state=42)"
   ]
  },
  {
   "cell_type": "code",
   "execution_count": null,
   "id": "50d2496b",
   "metadata": {},
   "outputs": [],
   "source": [
    "# Initialize models\n",
    "log_model = LogisticRegression()\n",
    "tree_model = DecisionTreeClassifier(random_state=42)\n",
    "nb_model = GaussianNB()\n",
    "\n",
    "# Train models\n",
    "log_model.fit(X_train, y_train)\n",
    "tree_model.fit(X_train, y_train)\n",
    "nb_model.fit(X_train, y_train)"
   ]
  },
  {
   "cell_type": "code",
   "execution_count": null,
   "id": "3764123a",
   "metadata": {},
   "outputs": [],
   "source": [
    "# Evaluation function\n",
    "def evaluate_model(name, model, X_test, y_test):\n",
    "    y_pred = model.predict(X_test)\n",
    "    y_prob = model.predict_proba(X_test)[:, 1] if hasattr(model, \"predict_proba\") else None\n",
    "    auc = roc_auc_score(y_test, y_prob) if y_prob is not None else \"N/A\"\n",
    "    report = classification_report(y_test, y_pred, output_dict=True)\n",
    "    return {\n",
    "        \"Model\": name,\n",
    "        \"Accuracy\": accuracy_score(y_test, y_pred),\n",
    "        \"Precision\": report[\"1\"][\"precision\"],\n",
    "        \"Recall\": report[\"1\"][\"recall\"],\n",
    "        \"F1-Score\": report[\"1\"][\"f1-score\"],\n",
    "        \"AUC\": auc\n",
    "    }\n",
    "\n",
    "# Collect results\n",
    "results = [\n",
    "    evaluate_model(\"Logistic Regression\", log_model, X_test, y_test),\n",
    "    evaluate_model(\"Decision Tree\", tree_model, X_test, y_test),\n",
    "    evaluate_model(\"Naive Bayes\", nb_model, X_test, y_test)\n",
    "]\n",
    "\n",
    "# Create DataFrame of results\n",
    "pd.DataFrame(results)"
   ]
  }
 ],
 "metadata": {},
 "nbformat": 4,
 "nbformat_minor": 5
}
